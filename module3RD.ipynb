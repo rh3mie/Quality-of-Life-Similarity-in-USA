{
 "cells": [
  {
   "cell_type": "markdown",
   "metadata": {},
   "source": [
    "# Module 3 Assignment: Measuring Quality of Life Similarity in the USA\n",
    "Rheymar Devera\n",
    "INST414"
   ]
  },
  {
   "cell_type": "code",
   "execution_count": 57,
   "metadata": {},
   "outputs": [],
   "source": [
    "# import libraries\n",
    "import pandas as pd\n",
    "from sklearn.preprocessing import StandardScaler\n",
    "from sklearn.metrics.pairwise import cosine_similarity"
   ]
  },
  {
   "cell_type": "code",
   "execution_count": 64,
   "metadata": {},
   "outputs": [],
   "source": [
    "# Load dataset\n",
    "df = pd.read_csv(\"qol_states_2024.csv\")\n",
    "\n",
    "# Select relevant numeric columns\n",
    "features = [\n",
    "    \"QualityOfLifeTotalScore\",\n",
    "    \"QualityOfLifeQualityOfLife\",\n",
    "    \"QualityOfLifeAffordability\",\n",
    "    \"QualityOfLifeEconomy\",\n",
    "    \"QualityOfLifeEducationAndHealth\",\n",
    "    \"QualityOfLifeSafety\",\n",
    "]\n",
    "\n",
    "# Standardize numerical columns\n",
    "scaler = StandardScaler()\n",
    "scaled_features = scaler.fit_transform(df[features])\n",
    "\n",
    "# Compute cosine similarity matrix\n",
    "similarity_matrix = cosine_similarity(scaled_features)\n",
    "\n",
    "# Helper function to find most similar states\n",
    "def top_similar(state_name, top_n=10):\n",
    "    idx = df.index[df[\"state\"] == state_name][0]\n",
    "    sim_scores = list(enumerate(similarity_matrix[idx]))\n",
    "    sim_scores = sorted(sim_scores, key=lambda x: x[1], reverse=True)\n",
    "    top_indices = [i for i, _ in sim_scores[1:top_n+1]]\n",
    "    top_scores = [score for i, score in sim_scores[1:top_n+1]]\n",
    "\n",
    "    # Return DataFrame with cosine similarity values\n",
    "    results = df.iloc[top_indices][[\"state\"]].copy()\n",
    "    results[\"Cosine Similarity\"] = top_scores\n",
    "    return results.reset_index(drop=True)\n"
   ]
  },
  {
   "cell_type": "code",
   "execution_count": 65,
   "metadata": {},
   "outputs": [
    {
     "name": "stdout",
     "output_type": "stream",
     "text": [
      "\n",
      "Top 10 most similar states to Maryland:\n",
      "           state  Cosine Similarity\n",
      "0   Rhode Island           0.908039\n",
      "1    Connecticut           0.863663\n",
      "2     New Jersey           0.788570\n",
      "3        Vermont           0.776155\n",
      "4  New Hampshire           0.750692\n",
      "5          Maine           0.726599\n",
      "6       New York           0.642668\n",
      "7  Massachusetts           0.634276\n",
      "8      Wisconsin           0.593681\n",
      "9       Nebraska           0.527803\n"
     ]
    }
   ],
   "source": [
    "# Show top 10 most similar states for each query\n",
    "# Maryland\n",
    "print(f\"\\nTop 10 most similar states to Maryland:\")\n",
    "print(top_similar(\"Maryland\"))"
   ]
  },
  {
   "cell_type": "code",
   "execution_count": 66,
   "metadata": {},
   "outputs": [
    {
     "name": "stdout",
     "output_type": "stream",
     "text": [
      "\n",
      "Top 10 most similar states to California:\n",
      "           state  Cosine Similarity\n",
      "0         Oregon           0.750149\n",
      "1        Florida           0.694421\n",
      "2     Washington           0.685203\n",
      "3          Texas           0.672018\n",
      "4  Massachusetts           0.581774\n",
      "5       New York           0.555272\n",
      "6      Wisconsin           0.521564\n",
      "7       Colorado           0.503144\n",
      "8   Pennsylvania           0.466304\n",
      "9     New Jersey           0.458346\n"
     ]
    }
   ],
   "source": [
    "# California\n",
    "print(f\"\\nTop 10 most similar states to California:\")\n",
    "print(top_similar(\"California\"))"
   ]
  },
  {
   "cell_type": "code",
   "execution_count": 67,
   "metadata": {},
   "outputs": [
    {
     "name": "stdout",
     "output_type": "stream",
     "text": [
      "\n",
      "Top 10 most similar states to Texas:\n",
      "            state  Cosine Similarity\n",
      "0      California           0.672018\n",
      "1         Arizona           0.661355\n",
      "2          Oregon           0.610628\n",
      "3          Nevada           0.559764\n",
      "4      New Mexico           0.532937\n",
      "5  North Carolina           0.499467\n",
      "6  South Carolina           0.456287\n",
      "7      Washington           0.424930\n",
      "8            Ohio           0.397637\n",
      "9         Georgia           0.374854\n"
     ]
    }
   ],
   "source": [
    "# Texas\n",
    "print(f\"\\nTop 10 most similar states to Texas:\")\n",
    "print(top_similar(\"Texas\"))"
   ]
  }
 ],
 "metadata": {
  "kernelspec": {
   "display_name": "Python 3",
   "language": "python",
   "name": "python3"
  },
  "language_info": {
   "codemirror_mode": {
    "name": "ipython",
    "version": 3
   },
   "file_extension": ".py",
   "mimetype": "text/x-python",
   "name": "python",
   "nbconvert_exporter": "python",
   "pygments_lexer": "ipython3",
   "version": "3.13.1"
  }
 },
 "nbformat": 4,
 "nbformat_minor": 2
}
